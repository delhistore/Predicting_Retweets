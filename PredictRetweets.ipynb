{
 "cells": [
  {
   "cell_type": "markdown",
   "metadata": {},
   "source": [
    "# Predicting the number of retweets"
   ]
  },
  {
   "cell_type": "markdown",
   "metadata": {},
   "source": [
    "Objective:\n",
    "\n",
    "Your task is to write a small R/python script to explore the given dataset and predict the total number of retweets a tweet will get using only the provided dataset. This task is designed to test your ability to understand and evaluate business use cases from given data source along with the scripting skills and your knowledge of Data Science techniques and your ability to work effectively, efficiently and independently within a commercial setting. This task is not designed to test your hyper tuning abilities or lateral thinking; the fewer lines of code the better. Think of this as iteration one or a proof of concept. \n",
    "\n",
    "Deliverables:\n",
    "\n",
    "•         One R/python script <br>\n",
    "•         One requirements text file including an exhaustive list of packages and version numbers used in your solution<br>\n",
    "•         Nothing else<br>\n",
    "\n",
    "Your solution should at a minimum do the following:\n",
    "\n",
    "•         Load the data into memory<br>\n",
    "•         Prepare the data for modeling<br>\n",
    "•         Build an analytical model on given data<br>\n",
    "•         Build an interactive dashboard to visualize the key findings<br>\n",
    "•         Provide some measure of performance/accuracy of analysis<br>"
   ]
  },
  {
   "cell_type": "markdown",
   "metadata": {},
   "source": [
    "### Loading data"
   ]
  },
  {
   "cell_type": "code",
   "execution_count": null,
   "metadata": {
    "collapsed": true
   },
   "outputs": [],
   "source": []
  },
  {
   "cell_type": "code",
   "execution_count": null,
   "metadata": {
    "collapsed": true
   },
   "outputs": [],
   "source": []
  },
  {
   "cell_type": "code",
   "execution_count": null,
   "metadata": {
    "collapsed": true
   },
   "outputs": [],
   "source": []
  },
  {
   "cell_type": "code",
   "execution_count": null,
   "metadata": {
    "collapsed": true
   },
   "outputs": [],
   "source": []
  },
  {
   "cell_type": "code",
   "execution_count": null,
   "metadata": {
    "collapsed": true
   },
   "outputs": [],
   "source": []
  },
  {
   "cell_type": "code",
   "execution_count": null,
   "metadata": {
    "collapsed": true
   },
   "outputs": [],
   "source": []
  }
 ],
 "metadata": {
  "kernelspec": {
   "display_name": "Python 3",
   "language": "python",
   "name": "python3"
  },
  "language_info": {
   "codemirror_mode": {
    "name": "ipython",
    "version": 3
   },
   "file_extension": ".py",
   "mimetype": "text/x-python",
   "name": "python",
   "nbconvert_exporter": "python",
   "pygments_lexer": "ipython3",
   "version": "3.6.1"
  }
 },
 "nbformat": 4,
 "nbformat_minor": 2
}
